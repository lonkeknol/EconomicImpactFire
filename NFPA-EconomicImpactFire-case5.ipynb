{
 "cells": [
  {
   "cell_type": "markdown",
   "metadata": {},
   "source": [
    "# NFPA-CBA Example 5 : Mass timber multi-family apartment building (RES3E)"
   ]
  },
  {
   "cell_type": "markdown",
   "metadata": {},
   "source": [
    "## Notebook initialization"
   ]
  },
  {
   "cell_type": "code",
   "execution_count": 1,
   "metadata": {},
   "outputs": [],
   "source": [
    "# import packages\n",
    "import numpy as np\n",
    "import matplotlib.pyplot as plt"
   ]
  },
  {
   "cell_type": "markdown",
   "metadata": {},
   "source": [
    "## Introduction\n",
    "This Notebook presents an example application of the prototype methodology for cost-benefit analysis. This case study considers a building area of 954 m2 (a ten story multi-family apartment building, based on a design by KPF. The cost-benefits of the following fire protection systems are investigated: (i) sprinkler system, and (ii) structural fire protection by layers of gypsum board over mass timber members.  \n",
    "\n",
    "The reference design has none of the fire protection systems. The cost-benefit of three design alternatives are investigated: (A) presence of sprinkler system only; (B) presence of encapsulation layers only; (C) presence of both fire protection systems.  \n",
    "\n",
    "The benefit evaluation is done considering the event tree diagram visualized below. "
   ]
  },
  {
   "attachments": {
    "Case%205.png": {
     "image/png": "[encoded data removed]"
    }
   },
   "cell_type": "markdown",
   "metadata": {},
   "source": [
    "![Case%205.png](attachment:Case%205.png)"
   ]
  },
  {
   "cell_type": "markdown",
   "metadata": {},
   "source": [
    "## I. Input\n",
    "User input in this area.\n",
    "Note: All monetary values in 2022 USD"
   ]
  },
  {
   "cell_type": "markdown",
   "metadata": {},
   "source": [
    "### I.1 Building characteristics\n",
    "High rise apartment building.  \n",
    "Cost evaluation of structure based on cost of comparable structures and the cost of fire protection measures based on (RSMeans, 2022). See background document."
   ]
  },
  {
   "cell_type": "code",
   "execution_count": 2,
   "metadata": {},
   "outputs": [],
   "source": [
    "S_area = 909.52 # [m2] Floor area of structure\n",
    "Construction_Cost = 1797.54 # [USD/m2] Construction cost; evaluated through (RSMeans, 2022)\n",
    "Demol_cost = 47.65 # [USD/m2] (RSMeans, 2022) Demolition cost evaluated through (RSMeans, 2022)\n",
    "Disposal_cost = 8.34  # [USD/m2] (RSMeans, 2022) Disposal cost evaluated through (RSMeans, 2022)"
   ]
  },
  {
   "cell_type": "markdown",
   "metadata": {},
   "source": [
    "### I.2 Discount rate and obsolescence rate"
   ]
  },
  {
   "cell_type": "code",
   "execution_count": 3,
   "metadata": {},
   "outputs": [],
   "source": [
    "g = 0.03 # [1/year] continuous discount rate; 3% based on (Fischer, 2014)\n",
    "o = 0    # [1/year] obsolescence rate; 0% - building obsolescence neglected"
   ]
  },
  {
   "cell_type": "markdown",
   "metadata": {},
   "source": [
    "### I.3 Cost of fire protection"
   ]
  },
  {
   "cell_type": "markdown",
   "metadata": {},
   "source": [
    "#### I.3.a Investment cost fire protection"
   ]
  },
  {
   "cell_type": "code",
   "execution_count": 4,
   "metadata": {},
   "outputs": [],
   "source": [
    "## sprinkler system\n",
    "c_ins_unitcost= 48.85 # [USD/m2] System installation cost for sprinkler system with wet pipe water sprinkler based on (RSMeans, 2022), assuming light hazard level for the occupancy type.\n",
    "c_ins = c_ins_unitcost*S_area  # [USD] Total system installation cost"
   ]
  },
  {
   "cell_type": "code",
   "execution_count": 5,
   "metadata": {},
   "outputs": [],
   "source": [
    "## Encapsulation of timber members with gypsum boards\n",
    "\n",
    "n_comp = np.array([0, 1, 2]) # Number of levels of encapsulation; \n",
    "\n",
    "\n",
    "# Encapsulation wall cost per m2\n",
    "Cost_wall = np.array([0, 52.66, 90.48]) # [USD/m2] Unit cost of encapsulation; evaluated through (RSMeans, 2022)\n",
    "c_comp = Cost_wall * S_area # [USD] Total cost of encapsulation (NB: first scenario is no encapsulation)\n",
    "\n"
   ]
  },
  {
   "cell_type": "markdown",
   "metadata": {},
   "source": [
    "#### I.3.b Maintenance cost fire protection"
   ]
  },
  {
   "cell_type": "code",
   "execution_count": 6,
   "metadata": {},
   "outputs": [],
   "source": [
    "## sprinkler system\n",
    "m_sp= 0.05 * c_ins # [USD per year] annual maintenance cost; 5% of sprinkler installation cost based on (Hopkin, 2019)- maintenance cost assumed to include replacement of parts for system lifetime extension\n",
    "m_com=0 * c_comp # [USD per year] annual maintenance considered for encapsulation (NB: no maintenance cost for encapsulation)"
   ]
  },
  {
   "cell_type": "markdown",
   "metadata": {},
   "source": [
    "### I.4 Benefit of fire protection\n",
    "Benefit evaluation as reduction in cost of fire losses, assessed through flowchart listed in the Introduction.\n",
    "<br> See background document for discussion."
   ]
  },
  {
   "cell_type": "markdown",
   "metadata": {},
   "source": [
    "#### I.4.a Fire frequency"
   ]
  },
  {
   "cell_type": "code",
   "execution_count": 7,
   "metadata": {},
   "outputs": [],
   "source": [
    "## fire frequency\n",
    "lambda_fi= 0.00151 # [1/year] fire frequency for storage (ignition frequency + unsuccessful immediate suppression by occupants); 0.00156 based on (Manes and Rush, 2019) "
   ]
  },
  {
   "cell_type": "markdown",
   "metadata": {},
   "source": [
    "#### I.4.b Fire barrier reliability"
   ]
  },
  {
   "cell_type": "code",
   "execution_count": 8,
   "metadata": {},
   "outputs": [],
   "source": [
    "## sprinkler reliability\n",
    "psup_sp = 0.95 # [-] probability of succesful fire suppression by sprinklers; 0.92-0.98 based on (Vassart et al., 2012)\n",
    "\n",
    "## encapsulation reliability\n",
    "pf_encap = np.array([0.24,0.02,0]) # probability of building failing with encapsulation of timber members"
   ]
  },
  {
   "cell_type": "markdown",
   "metadata": {},
   "source": [
    "#### I.4.c Fire-induced losses"
   ]
  },
  {
   "cell_type": "code",
   "execution_count": 9,
   "metadata": {},
   "outputs": [],
   "source": [
    "## valuation of risk to life\n",
    "VSL = 5.657*10**6 # [2022 USD] Value of Statistical Life (VSL); 5.657*10**6 based on (ISO 2394:2015) \n",
    "xi_in = (0.047 * VSL) # [2022 USD] valuation of average injury risk; 0.047*VSL based on (Zhuang et al., 2017)"
   ]
  },
  {
   "cell_type": "code",
   "execution_count": 10,
   "metadata": {},
   "outputs": [],
   "source": [
    "## [fatalities/fire]\n",
    "Nf_civilian = 7.4/1000 # [fatality/fire] probability of civilian fatalities; 7.4 fatalities per 1000  fires based on (NFPA 2022)\n",
    "Nf_firefighter_onground = 2.4/1e5 # [fatality/fire] probability of firefighter fireground fatality; 2.4/1e5 based on (NFPA, 2022)\n",
    "Nf_firefighter_response = 2.2/1e5 # [fatality/fire] probability of firefighter response fatality; 2.2/1e5 based on (NFPA, 2022)"
   ]
  },
  {
   "cell_type": "code",
   "execution_count": 11,
   "metadata": {},
   "outputs": [],
   "source": [
    "## [injuries/fire]\n",
    "Ni_civilian = 3/100 # [injury/fire] civilian injuries; 3 injuries per 100 reported fires based on (NFPA, 2022)\n",
    "Ni_firefighter_onground = 1.62/100 # [injury/fire] firefighter fireground injuries; 1.62 injuries per 100 reported fires based on (NFPA, 2022)\n",
    "Ni_firefighter_response = 0.37/100  # [injury/fire] firefighter response injuries; 3.7 injuries per 1000 reported fires based on (NFPA, 2022)"
   ]
  },
  {
   "cell_type": "code",
   "execution_count": 12,
   "metadata": {},
   "outputs": [],
   "source": [
    "## property loss\n",
    "S_loss_0 = S_area # [m2] average damage area in case of no sprinkler suppression; \n",
    "S_loss_s = 4.92 # [m2] average damage area in case of sprinkler suppression; \n",
    "\n",
    "S_loss_comp = 23.8 # [m2] average damage area in case of encapsulation preventing structural failure\n",
    "\n",
    "eps_loss_content = 1.5 # [-] property loss multiplication factor; eps_loss = ((building loss + content loss) / building loss); 1.5 based on (FEMA, 2015)\n",
    "eps_loss_indirect = 1.1  # [-] total property loss multiplication factor accounting for indirect costs; 1.1 based on (Ramachandran and Hall, 2002)"
   ]
  },
  {
   "cell_type": "markdown",
   "metadata": {},
   "source": [
    "## II. Design fire risk evaluation"
   ]
  },
  {
   "cell_type": "markdown",
   "metadata": {},
   "source": [
    "### II.1 Calculation of fire scenario parameters"
   ]
  },
  {
   "cell_type": "code",
   "execution_count": 13,
   "metadata": {},
   "outputs": [],
   "source": [
    "# Unit replacement cost\n",
    "Replace_cost = Construction_Cost + Demol_cost + Disposal_cost # [USD/m2] replacement cost as sum of demolition, disposal and reconstruction\n",
    "\n",
    "# Compartment area\n",
    "comp_area = S_loss_comp \n",
    "\n",
    "# survival probability\n",
    "p_encap = 1-pf_encap # probability of building not failing with encapsulation of timber members"
   ]
  },
  {
   "cell_type": "markdown",
   "metadata": {},
   "source": [
    "### II.2 Scenario consequence evalluation\n",
    "Evaluation of consequences for identified scenarios (event tree- Scenarios I, II and III)"
   ]
  },
  {
   "cell_type": "markdown",
   "metadata": {},
   "source": [
    "#### II.2.a Scenario I \"Suppression by sprinkler\""
   ]
  },
  {
   "cell_type": "code",
   "execution_count": 14,
   "metadata": {},
   "outputs": [],
   "source": [
    "### Fatalities and injuries\n",
    "# Fatalities\n",
    "Nf_sup = 0 + Nf_firefighter_response # [fatality/fire] total fatality rate with sprinkler suppression\n",
    "# Injuries\n",
    "redux_Nin_civ=0.57 # [-] reduction factor for civilian injuries; 57% reduction in civilian injuries, based on (Butry, 2009)\n",
    "Nin_sup = ((1-redux_Nin_civ)*Ni_civilian) + Ni_firefighter_response # [injury/fire] total injury rate with sprinkler suppression\n",
    "\n",
    "### Valuation of fatalities and injuries\n",
    "Df_sup=Nf_sup*VSL # [USD/fire] valuation expected life loss\n",
    "Din_sup = Nin_sup*xi_in # [USD/fire] valuation expected injuries\n",
    "\n",
    "### Material loss\n",
    "xi_d_sup =  S_loss_s * Replace_cost * eps_loss_content * eps_loss_indirect # [USD] property loss given fire\n",
    "\n",
    "### Total loss valuation\n",
    "D_I=Df_sup+Din_sup+xi_d_sup # [USD] expected value fire-induced loss, scenario I \"fire suppressed by sprinkler\""
   ]
  },
  {
   "cell_type": "markdown",
   "metadata": {},
   "source": [
    "#### II.2.b Scenario II \"Not suppressed by sprinklers, but encapsulation prevents building failure\""
   ]
  },
  {
   "cell_type": "code",
   "execution_count": 15,
   "metadata": {},
   "outputs": [],
   "source": [
    "### Fatalities and injuries\n",
    "# Fatalities\n",
    "Nf_sup_encap = Nf_civilian + Nf_firefighter_onground + Nf_firefighter_response # [fatality/fire] total fatality rate without sprinkler suppression \n",
    "# Injuries\n",
    "Nin_sup_encap = Ni_civilian + Ni_firefighter_onground + Nf_firefighter_response # [injury/fire] total injury rate without sprinkler suppression \n",
    "\n",
    "### Valuation of fatalities and injuries\n",
    "Df_sup_encap=Nf_sup_encap*VSL # [USD/fire] valuation expected life loss\n",
    "Din_sup_encap = Nin_sup_encap*xi_in # [USD/fire] valuation expected injuries\n",
    "\n",
    "### Material loss\n",
    "xi_d_sup_encap =  S_loss_comp * Replace_cost * eps_loss_content * eps_loss_indirect # [USD] property loss\n",
    "\n",
    "### Total loss valuation\n",
    "D_II=Df_sup_encap+Din_sup_encap+xi_d_sup_encap # [USD] expected value fire-induced loss, scenario II \"fire not suppressed by sprinklers but ecapsulation prevents building failure\"\n"
   ]
  },
  {
   "cell_type": "markdown",
   "metadata": {},
   "source": [
    "#### II.2.c Scenario III \"Not suppressed, building fails\""
   ]
  },
  {
   "cell_type": "code",
   "execution_count": 16,
   "metadata": {},
   "outputs": [],
   "source": [
    "### Fatalities and injuries\n",
    "# Fatalities\n",
    "Nf_unsup_encap = Nf_civilian + Nf_firefighter_onground + Nf_firefighter_response # [fatality/fire] total fatality rate without sprinkler suppression\n",
    "# Injuries\n",
    "Nin_unsup_encap = Ni_civilian + Ni_firefighter_onground + Nf_firefighter_response # [injury/fire] total injury rate without sprinkler suppression\n",
    "\n",
    "### Valuation of fatalities and injuries\n",
    "Df_unsup_encap=Nf_unsup_encap*VSL # [USD/fire] valuation expected life loss\n",
    "Din_unsup_encap = Nin_unsup_encap*xi_in # [USD/fire] valuation expected injuries\n",
    "\n",
    "### Material loss\n",
    "xi_d_unsup_encap = S_loss_0 * Replace_cost * eps_loss_content * eps_loss_indirect # [USD] property loss\n",
    "\n",
    "### Total loss valuation\n",
    "D_III=Df_unsup_encap+Din_unsup_encap+xi_d_unsup_encap # [USD] expected value fire-induced loss, scenario III \"fire not suppressed\""
   ]
  },
  {
   "cell_type": "markdown",
   "metadata": {},
   "source": [
    "## III. PNV calculation"
   ]
  },
  {
   "cell_type": "markdown",
   "metadata": {},
   "source": [
    "### Total safety system cost *C+A*"
   ]
  },
  {
   "cell_type": "markdown",
   "metadata": {},
   "source": [
    "#### III.1.a Investment cost, *C<sub>I</sub>*"
   ]
  },
  {
   "cell_type": "code",
   "execution_count": 17,
   "metadata": {},
   "outputs": [],
   "source": [
    "C_I_sp=c_ins # PNV investment cost for sprinkler system\n",
    "C_I_com=c_comp # PNV investment cost for encapsulation  "
   ]
  },
  {
   "cell_type": "markdown",
   "metadata": {},
   "source": [
    "#### III.1.b PNV maintenance cost, *C<sub>M</sub>*"
   ]
  },
  {
   "cell_type": "code",
   "execution_count": 18,
   "metadata": {},
   "outputs": [],
   "source": [
    "C_M_sp=m_sp/g # PNV of maintenace cost for sprinkler system\n",
    "C_M_com=m_com/g # PNV of maintenace cost for encapsulation"
   ]
  },
  {
   "cell_type": "markdown",
   "metadata": {},
   "source": [
    "#### III.1.c Obsolescence cost, *C<sub>A</sub>*"
   ]
  },
  {
   "cell_type": "code",
   "execution_count": 19,
   "metadata": {},
   "outputs": [],
   "source": [
    "C_A_sp=C_I_sp*o/g # PNV of obsolescence cost sprinkler system\n",
    "C_A_com=C_I_com*o/g # PNV of obsolescence cost encapsulation"
   ]
  },
  {
   "cell_type": "markdown",
   "metadata": {},
   "source": [
    "#### III.1.d Total safety system cost *C+A*"
   ]
  },
  {
   "cell_type": "code",
   "execution_count": 20,
   "metadata": {},
   "outputs": [],
   "source": [
    "net_C_a=C_I_sp+ C_M_sp + C_A_sp # Sprinkler only (Design a)\n",
    "net_C_b = C_I_com + C_M_com + C_A_com # encapsulation only (Design b) - first entry is the reference design of no level of encapsulation\n",
    "net_C_c = net_C_a + net_C_b # Sprinkler and encapsulation both (Design c)\n"
   ]
  },
  {
   "cell_type": "markdown",
   "metadata": {},
   "source": [
    "#### III.2 Net Benefit B-D"
   ]
  },
  {
   "cell_type": "markdown",
   "metadata": {},
   "source": [
    "#### III.2.a Fire induced losses reference design, *B* (no sprinkler system and no encapsulation)"
   ]
  },
  {
   "cell_type": "code",
   "execution_count": 21,
   "metadata": {},
   "outputs": [],
   "source": [
    "# Expected loss reference design\n",
    "Dref  = ((p_encap[0]) * D_II)+((1-p_encap[0])*D_III)\n",
    "\n",
    "# Present net value of reference design\n",
    "B = Dref * lambda_fi/g # [USD] PNV fire-induced losses reference design"
   ]
  },
  {
   "cell_type": "markdown",
   "metadata": {},
   "source": [
    "#### III.2.b Fire-induced losses trial designs"
   ]
  },
  {
   "cell_type": "code",
   "execution_count": 22,
   "metadata": {},
   "outputs": [],
   "source": [
    "## Expected losses with design A, B and C\n",
    "# Design a (Sprinkler system only)\n",
    "Da = psup_sp * D_I + (1-psup_sp) *  (p_encap[0] * D_II+(1-p_encap[0])*D_III)\n",
    "\n",
    "# Design b (encapsulation only)\n",
    "Db  =  (p_encap * D_II) + ((1-p_encap) * D_III)\n",
    "\n",
    "# Design c (Fire sprinkler and encapsulation both)\n",
    "Dc  = (psup_sp * D_I) + (1-psup_sp) * (p_encap * D_II + (1-p_encap) * D_III)\n"
   ]
  },
  {
   "cell_type": "code",
   "execution_count": 23,
   "metadata": {},
   "outputs": [],
   "source": [
    "## PNV of design a, b and c\n",
    "D_a = Da *lambda_fi/g  # [USD] PNV expected risk for alternative design a (sprinkler system only)\n",
    "D_b = Db *lambda_fi/g  # [USD] PNV expected risk for alternative design b (encapsulation only)\n",
    "D_c = Dc *lambda_fi/g  # [USD] PNV expected risk for alternative design c (sprinkler system and encapsulation)\n"
   ]
  },
  {
   "cell_type": "markdown",
   "metadata": {},
   "source": [
    "#### III.2.c PNV net benefit, *B-D*"
   ]
  },
  {
   "cell_type": "code",
   "execution_count": 24,
   "metadata": {},
   "outputs": [],
   "source": [
    "netB_a = B - D_a # [USD] Net benefit for alternative design a (sprinkler system only)\n",
    "netB_b = B - D_b # [USD] Net benefit for alternative design b (encapsulation only)\n",
    "netB_c = B - D_c # [USD] Net benefit for alternative design c (sprinkler system and encapsulation)"
   ]
  },
  {
   "cell_type": "markdown",
   "metadata": {},
   "source": [
    "## IV. Cost-Benefit evaluation, Z (USD, Present net value)"
   ]
  },
  {
   "cell_type": "code",
   "execution_count": 25,
   "metadata": {},
   "outputs": [
    {
     "name": "stdout",
     "output_type": "stream",
     "text": [
      "\n",
      "The PNV for alternative design a (sprinkler system only) is -82,248 [USD]; the BCR is 0.31\n",
      "\n",
      "The PNV for alternative design b (encapsulation only) is, with\n",
      "\t1 layers: -17,900 [USD]; the BCR is 0.63\n",
      "\t2 layers: -49,571 [USD]; the BCR is 0.40\n",
      "\n",
      "The PNV for alternative design c (sprinkler system and encapsulation) is, with\n",
      "\t1 layers: -128,643 [USD]; the BCR is 0.23\n",
      "\t2 layers: -162,905 [USD]; the BCR is 0.19\n"
     ]
    }
   ],
   "source": [
    "## PNV of proposed alternative design\n",
    "Z_a = netB_a - net_C_a # [USD] Present net value for alternative design a (sprinkler system only)\n",
    "Z_b = netB_b - net_C_b # [USD] Present net value for alternative design b (encapsulation only)\n",
    "Z_c = netB_c - net_C_c # [USD] Present net value for alternative design c (sprinkler system and encapsulation)\n",
    "\n",
    "## Benefit cost ratio of proposed alternative design\n",
    "BCR_a=netB_a/net_C_a \n",
    "BCR_b=netB_b[1:]/net_C_b[1:]\n",
    "BCR_c=netB_c[1:]/net_C_c[1:]\n",
    "\n",
    "## Print to screen\n",
    "print(\"\\nThe PNV for alternative design a (sprinkler system only) is {0:,.0f} [USD]; the BCR is {1:.2f}\".format(Z_a,BCR_a))\n",
    "print(\"\\nThe PNV for alternative design b (encapsulation only) is, with\")\n",
    "for i,Z in enumerate(Z_b[1:]):\n",
    "    print(\"\\t{0:,.0f} layers: {1:,.0f} [USD]; the BCR is {2:.2f}\".format(n_comp[i+1],Z,BCR_b[i]))\n",
    "print(\"\\nThe PNV for alternative design c (sprinkler system and encapsulation) is, with\")\n",
    "for i,Z in enumerate(Z_c[1:]):\n",
    "    print(\"\\t{0:,.0f} layers: {1:,.0f} [USD]; the BCR is {2:.2f}\".format(n_comp[i+1],Z,BCR_c[i]))\n"
   ]
  },
  {
   "cell_type": "code",
   "execution_count": 26,
   "metadata": {},
   "outputs": [
    {
     "data": {
      "image/png": "[encoded data removed]",
      "text/plain": [
       "<Figure size 864x720 with 1 Axes>"
      ]
     },
     "metadata": {
      "needs_background": "light"
     },
     "output_type": "display_data"
    }
   ],
   "source": [
    "# Plot for cost-benefit of sprinkler and the cost-benefit of encapsulation for failure of both systems\n",
    "plt.rcParams.update({'font.size': 15})\n",
    "fig,ax  = plt.subplots(1,1)\n",
    "\n",
    "#ax.plot([n_comp[0],n_comp[-1]],[Z_a/1000,Z_a/1000],'--',color='r')\n",
    "ax.plot(n_comp[0:],Z_b/1000,linestyle='--',marker='x')\n",
    "ax.plot(n_comp[0:],Z_c/1000,linestyle='--',marker='o')\n",
    "\n",
    "ax.plot([0,2],[0,0],'k')\n",
    "ax.set_xlim([0,2])\n",
    "ax.set_xlabel('Number of layers')\n",
    "ax.set_ylabel('Present net value, Z [$10^3$ USD]')\n",
    "ax.legend(['Encapsulation','Sprinkler + Encapsulation'])\n",
    "fig.set_size_inches(12,10)"
   ]
  },
  {
   "cell_type": "markdown",
   "metadata": {},
   "source": [
    "# Parameter study"
   ]
  },
  {
   "cell_type": "markdown",
   "metadata": {},
   "source": [
    "### Study 1: Parameter study with number of encapsulation layers, and indirect cost."
   ]
  },
  {
   "cell_type": "markdown",
   "metadata": {
    "tags": []
   },
   "source": [
    "#### Function definition PNV Z, to allow parameter study of encapsulation and sprinkler system values"
   ]
  },
  {
   "cell_type": "code",
   "execution_count": 27,
   "metadata": {},
   "outputs": [],
   "source": [
    "# Function combining above model assumption for parameter study\n",
    "def Zvalue(p_encap,eps_loss_indirect):\n",
    "     \n",
    "    ## II. Design fire risk evaluation ##\n",
    "    #####################################    \n",
    "    ## II.2.a Scenario I \"suppression by sprinkler\"\n",
    "    ### Material loss\n",
    "    xi_d_sup =  S_loss_s * Replace_cost * eps_loss_content * eps_loss_indirect # [USD] property loss given fire\n",
    "    ### Total loss valuation\n",
    "    D_I=Df_sup+Din_sup+xi_d_sup # [USD] expected value fire-induced loss, scenario I \"fire suppressed by sprinkler\"    \n",
    "    \n",
    "    ## II.2.b Scenario II \"Not suppressed by sprinklers, no building failure\"\n",
    "    ### Material loss\n",
    "    xi_d_sup_encap =  S_loss_comp * Replace_cost * eps_loss_content * eps_loss_indirect # [USD] property loss\n",
    "    ### Total loss valuation\n",
    "    D_II=Df_sup_encap+Din_sup_encap+xi_d_sup_encap # [USD] expected value fire-induced loss, scenario II \"fire not suppressed by sprinklers but ecapsulation prevents building failure\"\n",
    "    \n",
    "    ## II.2.c Scenario III \"Not suppressed, but failure\"\n",
    "    ### Material loss\n",
    "    xi_d_unsup_encap = S_loss_0 * Replace_cost * eps_loss_content * eps_loss_indirect # [USD] property loss\n",
    "    ### Total loss valuation\n",
    "    D_III=Df_unsup_encap+Din_unsup_encap+xi_d_unsup_encap # [USD] expected value fire-induced loss, scenario III \"fire not suppressed\"    \n",
    "    \n",
    "    ## III. PNV calculation ##\n",
    "    ##########################\n",
    "    ## III.2.a Fire-induced losses reference design, B\n",
    "    # Expected loss reference design\n",
    "    Dref  = ((p_encap[0]) * D_II)+((1-p_encap[0])*D_III)\n",
    "\n",
    "    # Present net value of reference design\n",
    "    B = Dref * lambda_fi/g # [USD] PNV fire-induced losses reference design\n",
    "    \n",
    "    ## III.2.b Fire-induced losses trial designs\n",
    "    ## Expected losses with design A, B and C\n",
    "    \n",
    "    # Design a (Sprinkler system only)\n",
    "    Da = psup_sp * D_I + (1-psup_sp) *  (p_encap[0] * D_II+(1-p_encap[0])*D_III)\n",
    "\n",
    "    # Design b (encapsulation only)\n",
    "    Db  =  (p_encap * D_II) + ((1-p_encap) * D_III)\n",
    "\n",
    "    # Design c (Fire sprinkler and encapsulation both)\n",
    "    Dc  = (psup_sp * D_I) + (1-psup_sp) * (p_encap * D_II + (1-p_encap) * D_III)\n",
    "    \n",
    "    ## PNV evaluation\n",
    "    D_a = Da *lambda_fi/g; D_b = Db *lambda_fi/g; D_c = Dc *lambda_fi/g\n",
    "    \n",
    "    ## III.2.c PNV net benefit, B-D\n",
    "    netB_a = B - D_a; netB_b = B - D_b; netB_c = B - D_c\n",
    "    \n",
    "    ## IV. Cost-Benefit evaluation ##\n",
    "    #################################  \n",
    "    ## PNV of proposed alternative design\n",
    "    Z_a = netB_a - net_C_a # [USD] Present net value for alternative design a (sprinkler system only)\n",
    "    Z_b = netB_b - net_C_b # [USD] Present net value for alternative design b (encapsulation only)\n",
    "    Z_c = netB_c - net_C_c # [USD] Present net value for alternative design c (sprinkler system and encapsulation)\n",
    "\n",
    "    ## Benefit cost ratio of proposed alternative design\n",
    "    BCR_a=netB_a/net_C_a \n",
    "    BCR_b=netB_b[1:]/net_C_b[1:]\n",
    "    BCR_c=netB_c[1:]/net_C_c[1:]\n",
    "    \n",
    "    return Z_a,Z_b,Z_c,BCR_a,BCR_b,BCR_c\n",
    "\n"
   ]
  },
  {
   "cell_type": "code",
   "execution_count": 28,
   "metadata": {},
   "outputs": [
    {
     "name": "stdout",
     "output_type": "stream",
     "text": [
      "\n",
      "The PNV for alternative design a (sprinkler system only) is -82,248 [USD]; the BCR is 0.31\n",
      "\n",
      "The PNV for alternative design b (encapsulation only) is, with\n",
      "\t1 layers: -17,900 [USD]; the BCR is 0.63\n",
      "\t2 layers: -49,571 [USD]; the BCR is 0.40\n",
      "\n",
      "The PNV for alternative design c (sprinkler system and encapsulation) is, with\n",
      "\t1 layers: -128,643 [USD]; the BCR is 0.23\n",
      "\t2 layers: -162,905 [USD]; the BCR is 0.19\n"
     ]
    }
   ],
   "source": [
    "## Test of Zvalue code\n",
    "\n",
    "# input\n",
    "p_encap_var=p_encap\n",
    "eps_loss_indirect=1.1\n",
    "\n",
    "# calculation\n",
    "Z_a,Z_b,Z_c,BCR_a,BCR_b,BCR_c=Zvalue(p_encap_var,eps_loss_indirect)\n",
    "\n",
    "## Print to screen\n",
    "print(\"\\nThe PNV for alternative design a (sprinkler system only) is {0:,.0f} [USD]; the BCR is {1:.2f}\".format(Z_a,BCR_a))\n",
    "print(\"\\nThe PNV for alternative design b (encapsulation only) is, with\")\n",
    "for i,Z in enumerate(Z_b[1:]):\n",
    "    print(\"\\t{0:,.0f} layers: {1:,.0f} [USD]; the BCR is {2:.2f}\".format(n_comp[i+1],Z,BCR_b[i]))\n",
    "print(\"\\nThe PNV for alternative design c (sprinkler system and encapsulation) is, with\")\n",
    "for i,Z in enumerate(Z_c[1:]):\n",
    "    print(\"\\t{0:,.0f} layers: {1:,.0f} [USD]; the BCR is {2:.2f}\".format(n_comp[i+1],Z,BCR_c[i]))"
   ]
  },
  {
   "cell_type": "code",
   "execution_count": 30,
   "metadata": {},
   "outputs": [
    {
     "data": {
      "image/png": "[encoded data removed]",
      "text/plain": [
       "<Figure size 648x432 with 1 Axes>"
      ]
     },
     "metadata": {
      "needs_background": "light"
     },
     "output_type": "display_data"
    }
   ],
   "source": [
    "# Indirect cost, encapsulation value, sprinkler value\n",
    "# %matplotlib qt \n",
    "%matplotlib inline\n",
    "p_encap_var = np.array([0.76, 0.98,1])\n",
    "Ind_cost_var = np.array(range(0,105,5)) # [%] indirect cost factor as percentage of total direct cost\n",
    "\n",
    "\n",
    "legends = []\n",
    "\n",
    "eps_loss_indirect_var = 1+Ind_cost_var/100\n",
    "Z_b_var=np.zeros((len(n_comp),len(Ind_cost_var)))\n",
    "\n",
    "Z_c_var=np.zeros((len(n_comp),len(Ind_cost_var)))\n",
    "\n",
    "for j,eps in enumerate(eps_loss_indirect_var):\n",
    "    out = Zvalue(p_encap_var,eps)\n",
    "    Z_b_var[:,j]=out[1]\n",
    "    Z_c_var[:,j] = out[2]\n",
    "\n",
    "fig,ax = plt.subplots(1,1)\n",
    "\n",
    "for i,comp in enumerate(n_comp[0:1]):\n",
    "    ax.plot(Ind_cost_var,Z_c_var[i,:]/1000)\n",
    "    legends.append('Sprinklers only')\n",
    "    \n",
    "for i,comp in enumerate(n_comp[0:2]):\n",
    "    ax.plot(Ind_cost_var,Z_b_var[i+1,:]/1000)\n",
    "    legends.append(str(comp+1)+' encapsulation layers')\n",
    "    \n",
    "for i,comp in enumerate(n_comp[0:2]):\n",
    "    ax.plot(Ind_cost_var,Z_c_var[i+1,:]/1000)\n",
    "    legends.append('Sprinklers + '+str(comp+1)+' encapsulation layers')\n",
    "    \n",
    "    \n",
    "\n",
    "ax.legend(legends,fontsize=12)\n",
    "ax.plot([0,100],[0,0],linestyle='solid',color='k',linewidth=3.0)\n",
    "\n",
    "#ax.grid(which='both',axis='both')\n",
    "\n",
    "ax.set_xlim([0,100])\n",
    "\n",
    "ax.set_xlabel('Indirect cost as a percentage of direct cost(%)')\n",
    "ax.set_ylabel('Present net value, Z [$10^3$ USD]')\n",
    "\n",
    "\n",
    "\n",
    "fig.set_size_inches(9,6)\n",
    "\n"
   ]
  },
  {
   "cell_type": "code",
   "execution_count": null,
   "metadata": {},
   "outputs": [],
   "source": []
  }
 ],
 "metadata": {
  "kernelspec": {
   "display_name": "Python 3 (ipykernel)",
   "language": "python",
   "name": "python3"
  },
  "language_info": {
   "codemirror_mode": {
    "name": "ipython",
    "version": 3
   },
   "file_extension": ".py",
   "mimetype": "text/x-python",
   "name": "python",
   "nbconvert_exporter": "python",
   "pygments_lexer": "ipython3",
   "version": "3.9.7"
  }
 },
 "nbformat": 4,
 "nbformat_minor": 4
}
